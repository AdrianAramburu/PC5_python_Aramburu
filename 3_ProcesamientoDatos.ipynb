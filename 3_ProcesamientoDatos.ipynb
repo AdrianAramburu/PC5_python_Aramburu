{
  "cells": [
    {
      "cell_type": "markdown",
      "id": "9a004934-be26-482d-b9c4-d4cfac05ce29",
      "metadata": {
        "id": "9a004934-be26-482d-b9c4-d4cfac05ce29"
      },
      "source": [
        "## Procesamiento Datos Pandas\n",
        "\n",
        "Para esta prueba deberá emplear los datos del archivo candidates.csv para lo cual deberá:\n",
        "\n",
        "1. Almanecar los datos en una base de datos. (Asegurar el almacenamiento con el tipo de dato apropiado)\n",
        "2. A partir de la lectura de los datos deberá generar un procesamiento reporte.\n",
        "    \n",
        "    (Cree el proceso que consideré más conveniente, realizarlo lo más complejo que le sea posible)\n",
        "    \n",
        "3. Realizar un código de envio de correos integrado en su solución.\n",
        "\n",
        "\n",
        "El archivo candidates.csv contiene 50k filas de datos sobre candidatos. Los campos que estamos usando son:\n",
        "- First Name\n",
        "- Last Name\n",
        "- Email\n",
        "- Country\n",
        "- Application Date\n",
        "- Yoe (years of experience)\n",
        "- Seniority\n",
        "- Technology\n",
        "- Code Challenge Score\n",
        "- Technical Interview\n"
      ]
    },
    {
      "cell_type": "code",
      "source": [
        "import sqlite3\n",
        "import pandas as pd\n",
        "import smtplib\n",
        "from email.mime.text import MIMEText\n",
        "\n",
        "# Almacenar los datos en una base de datos\n",
        "def store_data_in_database():\n",
        "    # archivo CSV con el separador de punto y coma para que no de error\n",
        "    datos = pd.read_csv('candidates.csv', sep=';', encoding='utf-8')\n",
        "\n",
        "    # Renombrar las columnas para eliminar los espacios y caracteres especiales\n",
        "    datos.columns = [column.strip().replace(' ', '_').replace('(', '').replace(')', '') for column in datos.columns]\n",
        "\n",
        "    conn = sqlite3.connect('candidates.db')\n",
        "\n",
        "    # Crear una tabla en la base de datos para almacenar los datos\n",
        "    cursor = conn.cursor()\n",
        "    create_table_query = '''\n",
        "        CREATE TABLE IF NOT EXISTS candidates (\n",
        "            First_Name TEXT,\n",
        "            Last_Name TEXT,\n",
        "            Email TEXT,\n",
        "            Application_Date TEXT,\n",
        "            Country TEXT,\n",
        "            YOE TEXT,\n",
        "            Seniority TEXT,\n",
        "            Technology TEXT,\n",
        "            Code_Challenge_Score REAL,\n",
        "            Technical_Interview_Score REAL\n",
        "        )\n",
        "    '''\n",
        "    cursor.execute(create_table_query)\n",
        "\n",
        "    # Insertar los datos en la tabla\n",
        "    datos.to_sql('candidates', conn, if_exists='replace', index=False)\n",
        "\n",
        "    # Cerrar la conexión a la base de datos\n",
        "    conn.close()\n",
        "\n",
        "# Generar un procesamiento de reporte\n",
        "def generamos_el_reporte():\n",
        "    # Conectarse a la base de datos SQLite\n",
        "    conn = sqlite3.connect('candidates.db')\n",
        "\n",
        "    # Consulta SQL para generar el reporte\n",
        "    query = '''\n",
        "        SELECT Country, AVG(Code_Challenge_Score) AS Average_Score\n",
        "        FROM candidates\n",
        "        GROUP BY Country\n",
        "        ORDER BY Average_Score DESC\n",
        "    '''\n",
        "\n",
        "    # Ejecutar la consulta y obtener los resultados\n",
        "    resultados = pd.read_sql_query(query, conn)\n",
        "\n",
        "    # Cerrar la conexión a la base de datos\n",
        "    conn.close()\n",
        "\n",
        "    # Imprimir el reporte\n",
        "    print(\"Reporte de promedio de puntuación  de código por país:\")\n",
        "    print(resultados)\n",
        "\n",
        "\n"
      ],
      "metadata": {
        "id": "swWPArb21B5b"
      },
      "id": "swWPArb21B5b",
      "execution_count": 69,
      "outputs": []
    },
    {
      "cell_type": "code",
      "source": [
        "# Enviar correo electrónico\n",
        "def enviar_el_email(sender_email, sender_password, receiver_email, subject, message):\n",
        "    # Configurar el servidor SMTP de Gmail\n",
        "    smtp_server = 'smtp.gmail.com'\n",
        "    smtp_port = 587\n",
        "\n",
        "    # Crear el objeto MIMEText con el contenido del mensaje\n",
        "    msg = MIMEText(message.encode('utf-8'), _charset='utf-8')\n",
        "\n",
        "    # Configurar los encabezados del correo electrónico\n",
        "    msg['Subject'] = subject.encode('utf-8')\n",
        "    msg['From'] = sender_email\n",
        "    msg['To'] = receiver_email\n",
        "\n",
        "    # Conectar al servidor SMTP y enviar el correo electrónico\n",
        "    server = smtplib.SMTP(smtp_server, smtp_port)\n",
        "    server.starttls()\n",
        "    server.login(sender_email, sender_password)\n",
        "    server.sendmail(sender_email, receiver_email, msg.as_string())\n",
        "    server.quit()\n",
        "\n",
        "\n",
        "\n"
      ],
      "metadata": {
        "id": "c52hLnQz2hz5"
      },
      "id": "c52hLnQz2hz5",
      "execution_count": 70,
      "outputs": []
    },
    {
      "cell_type": "code",
      "source": [
        "# Resolución completa del ejercicio\n",
        "def solve_problem():\n",
        "    # Almacenar los datos en la base de datos\n",
        "    store_data_in_database()\n",
        "\n",
        "    # Generar el procesamiento de reporte\n",
        "    generamos_el_reporte()\n",
        "\n",
        "    # Enviar el correo electrónico\n",
        "    sender_email = 'ejemplo@gmail.com'\n",
        "    sender_password = 'ejemplocontra'\n",
        "    receiver_email = 'ejemplo_destino@gmail.com'\n",
        "    subject = 'Solucion'\n",
        "    message = 'Adjunto la solucion al problema :D'\n",
        "    enviar_el_email(sender_email, sender_password, receiver_email, subject, message)\n",
        "\n",
        "# Llamar a la función principal para resolver el problema\n",
        "solve_problem()"
      ],
      "metadata": {
        "id": "t0oAlDve2jtq"
      },
      "id": "t0oAlDve2jtq",
      "execution_count": null,
      "outputs": []
    }
  ],
  "metadata": {
    "kernelspec": {
      "display_name": "Python 3 (ipykernel)",
      "language": "python",
      "name": "python3"
    },
    "language_info": {
      "codemirror_mode": {
        "name": "ipython",
        "version": 3
      },
      "file_extension": ".py",
      "mimetype": "text/x-python",
      "name": "python",
      "nbconvert_exporter": "python",
      "pygments_lexer": "ipython3",
      "version": "3.10.9"
    },
    "colab": {
      "provenance": []
    }
  },
  "nbformat": 4,
  "nbformat_minor": 5
}